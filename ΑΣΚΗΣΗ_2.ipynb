{
  "nbformat": 4,
  "nbformat_minor": 0,
  "metadata": {
    "colab": {
      "provenance": []
    },
    "kernelspec": {
      "name": "python3",
      "display_name": "Python 3"
    },
    "language_info": {
      "name": "python"
    }
  },
  "cells": [
    {
      "cell_type": "code",
      "execution_count": null,
      "metadata": {
        "id": "GC-KDXerr_op"
      },
      "outputs": [],
      "source": [
        "import tensorflow as tf\n",
        "from tensorflow.keras import datasets, layers, models\n",
        "from sklearn.model_selection import train_test_split\n",
        "\n",
        "#Φόρτωση δεδομένων\n",
        "\n",
        "#Φορτώστε τα δεδομένα CIFAR-10\n",
        "(train_images, train_labels), (test_images, test_labels) = datasets.cifar10.load_data()\n",
        "\n",
        "#Κανονικοποίηση των pixel στο διάστημα [0, 1]\n",
        "train_images, test_images = train_images / 255.0, test_images / 255.0\n",
        "\n",
        "#Διαχωρισμός σε σύνολα εκπαίδευσης και ελέγχου\n",
        "train_images, val_images, train_labels, val_labels = train_test_split(\n",
        "    train_images, train_labels, test_size=0.2, random_state=42\n",
        ")\n",
        "\n",
        "#Κατασκευή MLP\n",
        "\n",
        "mlp_model = models.Sequential()\n",
        "mlp_model.add(layers.Flatten(input_shape=(32, 32, 3)))\n",
        "mlp_model.add(layers.Dense(128, activation='relu'))\n",
        "mlp_model.add(layers.Dense(10, activation='softmax'))\n",
        "\n",
        "#Κατασκευή CNN\n",
        "\n",
        "cnn_model = models.Sequential()\n",
        "cnn_model.add(layers.Conv2D(32, (3, 3), activation='relu', input_shape=(32, 32, 3)))\n",
        "cnn_model.add(layers.MaxPooling2D((2, 2)))\n",
        "cnn_model.add(layers.Conv2D(64, (3, 3), activation='relu'))\n",
        "cnn_model.add(layers.MaxPooling2D((2, 2)))\n",
        "cnn_model.add(layers.Conv2D(64, (3, 3), activation='relu'))\n",
        "cnn_model.add(layers.Flatten())\n",
        "cnn_model.add(layers.Dense(64, activation='relu'))\n",
        "cnn_model.add(layers.Dense(10, activation='softmax'))\n",
        "\n",
        "#Εκπαίδευση των μοντέλων\n",
        "\n",
        "#Εκπαίδευση MLP\n",
        "mlp_model.compile(optimizer='adam',\n",
        "                  loss='sparse_categorical_crossentropy',\n",
        "                  metrics=['accuracy'])\n",
        "\n",
        "mlp_history = mlp_model.fit(train_images, train_labels, epochs=10,\n",
        "                            validation_data=(val_images, val_labels))\n",
        "\n",
        "#Εκπαίδευση CNN\n",
        "cnn_model.compile(optimizer='adam',\n",
        "                  loss='sparse_categorical_crossentropy',\n",
        "                  metrics=['accuracy'])\n",
        "\n",
        "cnn_history = cnn_model.fit(train_images, train_labels, epochs=10,\n",
        "                            validation_data=(val_images, val_labels))\n",
        "\n",
        "#Αξιολόγηση της απόδοσης\n",
        "\n",
        "#Αξιολόγηση MLP\n",
        "mlp_test_loss, mlp_test_acc = mlp_model.evaluate(test_images, test_labels)\n",
        "print(f'MLP Test accuracy: {mlp_test_acc}')\n",
        "\n",
        "#Αξιολόγηση CNN\n",
        "cnn_test_loss, cnn_test_acc = cnn_model.evaluate(test_images, test_labels)\n",
        "print(f'CNN Test accuracy: {cnn_test_acc}')"
      ]
    }
  ]
}