{
  "nbformat": 4,
  "nbformat_minor": 0,
  "metadata": {
    "colab": {
      "provenance": []
    },
    "kernelspec": {
      "name": "python3",
      "display_name": "Python 3"
    },
    "language_info": {
      "name": "python"
    }
  },
  "cells": [
    {
      "cell_type": "code",
      "execution_count": null,
      "metadata": {
        "id": "7hMVWcoj-VKU"
      },
      "outputs": [],
      "source": [
        "from sklearn.model_selection import train_test_split\n",
        "from sklearn.datasets import load_iris\n",
        "\n",
        "# Φορτώση δεδομένων\n",
        "data = load_iris()\n",
        "X_train, X_test, y_train, y_test = train_test_split(data.data, data.target, test_size=0.2, random_state=42)\n",
        "\n",
        "# Κατασκευή BaggingClassifier\n",
        "from sklearn.ensemble import BaggingClassifier\n",
        "from sklearn.tree import DecisionTreeClassifier\n",
        "\n",
        "bagging_model = BaggingClassifier(base_estimator=DecisionTreeClassifier(), n_estimators=10, random_state=42)\n",
        "\n",
        "# Κατασκευή AdaBoostClassifier\n",
        "from sklearn.ensemble import AdaBoostClassifier\n",
        "\n",
        "adaboost_model = AdaBoostClassifier(base_estimator=DecisionTreeClassifier(), n_estimators=50, random_state=42)\n",
        "\n",
        "# Εκπαίδευση των δυο μοντέλων\n",
        "bagging_model.fit(X_train, y_train)\n",
        "adaboost_model.fit(X_train, y_train)\n",
        "\n",
        "# Αξιολόγηση απόδοσης μοντέλων\n",
        "bagging_accuracy = bagging_model.score(X_test, y_test)\n",
        "adaboost_accuracy = adaboost_model.score(X_test, y_test)\n",
        "\n",
        "print(f'Bagging Model Accuracy: {bagging_accuracy}')\n",
        "print(f'AdaBoost Model Accuracy: {adaboost_accuracy}')\n",
        "\n",
        "\n",
        "\n",
        "\n",
        "\n",
        "###########################################################\n",
        "\n",
        "\n",
        "\n",
        "\n",
        "from sklearn.model_selection import train_test_split\n",
        "from sklearn.datasets import load_breast_cancer\n",
        "from sklearn.ensemble import BaggingClassifier, RandomForestClassifier\n",
        "from sklearn.tree import DecisionTreeClassifier\n",
        "from sklearn.metrics import accuracy_score\n",
        "\n",
        "# Φόρτωση δεδομένων.\n",
        "data = load_breast_cancer()\n",
        "X_train, X_test, y_train, y_test = train_test_split(data.data, data.target, test_size=0.2, random_state=42)\n",
        "\n",
        "# Κατασκευή BaggingClassifier\n",
        "bagging_model = BaggingClassifier(base_estimator=DecisionTreeClassifier(), n_estimators=10, random_state=42)\n",
        "\n",
        "# Κατασκευή RandomForestClassifier.\n",
        "random_forest_model = RandomForestClassifier(n_estimators=100, random_state=42)\n",
        "\n",
        "# Εκπαίδευση των μοντέλων.\n",
        "bagging_model.fit(X_train, y_train)\n",
        "random_forest_model.fit(X_train, y_train)\n",
        "\n",
        "# Αξιολόγηση απόδοσης μοντέλων\n",
        "bagging_predictions = bagging_model.predict(X_test)\n",
        "random_forest_predictions = random_forest_model.predict(X_test)\n",
        "\n",
        "bagging_accuracy = accuracy_score(y_test, bagging_predictions)\n",
        "random_forest_accuracy = accuracy_score(y_test, random_forest_predictions)\n",
        "\n",
        "print(f'Bagging Model Accuracy: {bagging_accuracy}')\n",
        "print(f'Random Forest Model Accuracy: {random_forest_accuracy}')\n"
      ]
    }
  ]
}