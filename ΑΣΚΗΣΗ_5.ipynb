{
  "nbformat": 4,
  "nbformat_minor": 0,
  "metadata": {
    "colab": {
      "provenance": []
    },
    "kernelspec": {
      "name": "python3",
      "display_name": "Python 3"
    },
    "language_info": {
      "name": "python"
    }
  },
  "cells": [
    {
      "cell_type": "code",
      "execution_count": 2,
      "metadata": {
        "colab": {
          "base_uri": "https://localhost:8080/"
        },
        "id": "5qRIEHdoQJW0",
        "outputId": "ac78256d-5a58-4c26-df5d-695093cc0ad2"
      },
      "outputs": [
        {
          "output_type": "stream",
          "name": "stdout",
          "text": [
            "Accuracy with StandardScaler: 1.0\n",
            "Accuracy with MinMaxScaler: 0.9666666666666667\n",
            "Accuracy with RobustScaler: 1.0\n",
            "Accuracy with SimpleImputer: 0.9333333333333333\n",
            "Accuracy with KNNImputer: 0.9666666666666667\n",
            "Accuracy with IterativeImputer: 0.9666666666666667\n"
          ]
        },
        {
          "output_type": "stream",
          "name": "stderr",
          "text": [
            "/usr/local/lib/python3.10/dist-packages/sklearn/impute/_iterative.py:785: ConvergenceWarning: [IterativeImputer] Early stopping criterion not reached.\n",
            "  warnings.warn(\n"
          ]
        }
      ],
      "source": [
        "from sklearn.datasets import load_iris\n",
        "from sklearn.model_selection import train_test_split\n",
        "from sklearn.preprocessing import StandardScaler, MinMaxScaler, RobustScaler\n",
        "from sklearn.linear_model import LogisticRegression\n",
        "from sklearn.metrics import accuracy_score\n",
        "\n",
        "# Φόρτωση δεδομένων\n",
        "iris = load_iris()\n",
        "X = iris.data\n",
        "y = iris.target\n",
        "\n",
        "# Διαχωρισμός δεδομένων\n",
        "X_train, X_test, y_train, y_test = train_test_split(X, y, test_size=0.2, random_state=42)\n",
        "\n",
        "scalers = [StandardScaler(), MinMaxScaler(), RobustScaler()]\n",
        "\n",
        "for scaler in scalers:\n",
        "    # Εφαρμογή μεθόδου κανονικοποίησης στα δεδομένα\n",
        "    X_train_scaled = scaler.fit_transform(X_train)\n",
        "    X_test_scaled = scaler.transform(X_test)\n",
        "\n",
        "    # Εκπαίδευση μοντέλου λογιστικής παλινδρόμησης\n",
        "    model = LogisticRegression()\n",
        "    model.fit(X_train_scaled, y_train)\n",
        "\n",
        "    y_pred = model.predict(X_test_scaled)\n",
        "\n",
        "    # Καταγραφή απόδοσης μοντέλων\n",
        "    accuracy = accuracy_score(y_test, y_pred)\n",
        "    print(f'Accuracy with {type(scaler).__name__}: {accuracy}')\n",
        "\n",
        "\n",
        "\n",
        "##########################################################\n",
        "\n",
        "\n",
        "from sklearn.experimental import enable_iterative_imputer\n",
        "from sklearn.impute import SimpleImputer, KNNImputer, IterativeImputer\n",
        "from sklearn.tree import DecisionTreeClassifier\n",
        "from sklearn.metrics import accuracy_score\n",
        "from sklearn.datasets import load_iris\n",
        "from sklearn.model_selection import train_test_split\n",
        "\n",
        "# Φόρτωση δεδομένων\n",
        "iris = load_iris()\n",
        "X = iris.data\n",
        "y = iris.target\n",
        "\n",
        "# Διαχωρισμός δεδομένων\n",
        "X_train, X_test, y_train, y_test = train_test_split(X, y, test_size=0.2, random_state=42)\n",
        "\n",
        "# Εισαγωγή τυχαίων ελλιπείς τιμές (NaN) στα δεδομένα εκπαίδευσης\n",
        "import numpy as np\n",
        "np.random.seed(42)\n",
        "missing_mask = np.random.rand(X_train.shape[0], X_train.shape[1]) < 0.1\n",
        "X_train_missing = X_train.copy()\n",
        "X_train_missing[missing_mask] = np.nan\n",
        "\n",
        "# Επιλογή τριών διαφορετικών μεθόδων συμπλήρωσης ελλιπών τιμών\n",
        "imputers = [\n",
        "    SimpleImputer(strategy='mean'),\n",
        "    KNNImputer(n_neighbors=2),\n",
        "    IterativeImputer(max_iter=10, random_state=0)\n",
        "]\n",
        "\n",
        "# Εφαρμογή των μεθόδων συμπλήρωσης\n",
        "for imputer in imputers:\n",
        "    # Συμπληρώστε τις ελλιπείς τιμές\n",
        "    X_train_imputed = imputer.fit_transform(X_train_missing)\n",
        "\n",
        "    # Εκπαίδευση ενός μοντέλου Decision Tree\n",
        "    model = DecisionTreeClassifier(random_state=42)\n",
        "    model.fit(X_train_imputed, y_train)\n",
        "\n",
        "    # Προβλέψεις στα δεδομένα ελέγχου\n",
        "    X_test_imputed = imputer.transform(X_test)\n",
        "    y_pred = model.predict(X_test_imputed)\n",
        "\n",
        "    # Υπολογισμός και εκτύπωση της ακρίβειας\n",
        "    accuracy = accuracy_score(y_test, y_pred)\n",
        "    print(f'Accuracy with {type(imputer).__name__}: {accuracy}')\n",
        "\n",
        "\n"
      ]
    }
  ]
}